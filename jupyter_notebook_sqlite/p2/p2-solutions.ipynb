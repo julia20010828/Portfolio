{
 "cells": [
  {
   "cell_type": "code",
   "execution_count": 1,
   "metadata": {},
   "outputs": [
    {
     "data": {
      "text/plain": [
       "'Connected: @tiny-college.db'"
      ]
     },
     "execution_count": 1,
     "metadata": {},
     "output_type": "execute_result"
    }
   ],
   "source": [
    "%load_ext sql\n",
    "%sql sqlite:///tiny-college.db"
   ]
  },
  {
   "cell_type": "markdown",
   "metadata": {},
   "source": [
    "## Part 1: SQL Query (10 points each)"
   ]
  },
  {
   "cell_type": "markdown",
   "metadata": {},
   "source": [
    "### Question 1 \n",
    "\n",
    "Write a query to list the first and last names of all freshmen students and their advisors (professors)."
   ]
  },
  {
   "cell_type": "code",
   "execution_count": 2,
   "metadata": {},
   "outputs": [
    {
     "name": "stdout",
     "output_type": "stream",
     "text": [
      " * sqlite:///tiny-college.db\n",
      "Done.\n"
     ]
    },
    {
     "data": {
      "text/html": [
       "<table>\n",
       "    <tr>\n",
       "        <th>Stu_lname</th>\n",
       "        <th>Stu_fname</th>\n",
       "        <th>Prof_lname</th>\n",
       "        <th>Prof_fname</th>\n",
       "    </tr>\n",
       "    <tr>\n",
       "        <td>Smith</td>\n",
       "        <td>John</td>\n",
       "        <td>Osaki</td>\n",
       "        <td>Ismael</td>\n",
       "    </tr>\n",
       "</table>"
      ],
      "text/plain": [
       "[('Smith', 'John', 'Osaki', 'Ismael')]"
      ]
     },
     "execution_count": 2,
     "metadata": {},
     "output_type": "execute_result"
    }
   ],
   "source": [
    "%%sql\n",
    "SELECT Stu_lname, Stu_fname, Prof_lname, Prof_fname \n",
    "FROM STUDENT, PROFESSOR\n",
    "WHERE STU_GRADE = 'Fr' and PROFESSOR.Prof_num = STUDENT.Prof_num;"
   ]
  },
  {
   "cell_type": "markdown",
   "metadata": {},
   "source": [
    "### Question 2\n",
    "\n",
    "Write a query to retrieve, for each class, the department name, course description, and the professor's last name."
   ]
  },
  {
   "cell_type": "code",
   "execution_count": 3,
   "metadata": {},
   "outputs": [
    {
     "name": "stdout",
     "output_type": "stream",
     "text": [
      " * sqlite:///tiny-college.db\n",
      "Done.\n"
     ]
    },
    {
     "data": {
      "text/html": [
       "<table>\n",
       "    <tr>\n",
       "        <th>Class_code</th>\n",
       "        <th>Dept_name</th>\n",
       "        <th>Crs_description</th>\n",
       "        <th>Prof_lname</th>\n",
       "    </tr>\n",
       "    <tr>\n",
       "        <td>10012</td>\n",
       "        <td>Accounting</td>\n",
       "        <td>Accounting I</td>\n",
       "        <td>Heffington</td>\n",
       "    </tr>\n",
       "    <tr>\n",
       "        <td>10013</td>\n",
       "        <td>Accounting</td>\n",
       "        <td>Accounting I</td>\n",
       "        <td>Heffington</td>\n",
       "    </tr>\n",
       "    <tr>\n",
       "        <td>10014</td>\n",
       "        <td>Accounting</td>\n",
       "        <td>Accounting I</td>\n",
       "        <td>Jones</td>\n",
       "    </tr>\n",
       "    <tr>\n",
       "        <td>10015</td>\n",
       "        <td>Accounting</td>\n",
       "        <td>Accounting II</td>\n",
       "        <td>Osaki</td>\n",
       "    </tr>\n",
       "    <tr>\n",
       "        <td>10016</td>\n",
       "        <td>Accounting</td>\n",
       "        <td>Accounting II</td>\n",
       "        <td>Osaki</td>\n",
       "    </tr>\n",
       "    <tr>\n",
       "        <td>10017</td>\n",
       "        <td>Computer Info. Systems</td>\n",
       "        <td>Intro. to Microcomputing</td>\n",
       "        <td>Coronel</td>\n",
       "    </tr>\n",
       "    <tr>\n",
       "        <td>10018</td>\n",
       "        <td>Computer Info. Systems</td>\n",
       "        <td>Intro. to Microcomputing</td>\n",
       "        <td>Graztevski</td>\n",
       "    </tr>\n",
       "    <tr>\n",
       "        <td>10019</td>\n",
       "        <td>Computer Info. Systems</td>\n",
       "        <td>Intro. to Microcomputing</td>\n",
       "        <td>Coronel</td>\n",
       "    </tr>\n",
       "    <tr>\n",
       "        <td>10020</td>\n",
       "        <td>Computer Info. Systems</td>\n",
       "        <td>Database Design and Implementation</td>\n",
       "        <td>Rob</td>\n",
       "    </tr>\n",
       "    <tr>\n",
       "        <td>10021</td>\n",
       "        <td>Computer Info. Systems</td>\n",
       "        <td>Intro. to Statistics</td>\n",
       "        <td>Graztevski</td>\n",
       "    </tr>\n",
       "    <tr>\n",
       "        <td>10022</td>\n",
       "        <td>Computer Info. Systems</td>\n",
       "        <td>Intro. to Statistics</td>\n",
       "        <td>Graztevski</td>\n",
       "    </tr>\n",
       "    <tr>\n",
       "        <td>10023</td>\n",
       "        <td>Computer Info. Systems</td>\n",
       "        <td>Statistical Applications</td>\n",
       "        <td>Rob</td>\n",
       "    </tr>\n",
       "    <tr>\n",
       "        <td>10024</td>\n",
       "        <td>Computer Info. Systems</td>\n",
       "        <td>Statistical Applications</td>\n",
       "        <td>Rob</td>\n",
       "    </tr>\n",
       "    <tr>\n",
       "        <td>10025</td>\n",
       "        <td>Mathematics</td>\n",
       "        <td>Mathmatic for Managers</td>\n",
       "        <td>Jones</td>\n",
       "    </tr>\n",
       "</table>"
      ],
      "text/plain": [
       "[(10012, 'Accounting', 'Accounting I', 'Heffington'),\n",
       " (10013, 'Accounting', 'Accounting I', 'Heffington'),\n",
       " (10014, 'Accounting', 'Accounting I', 'Jones'),\n",
       " (10015, 'Accounting', 'Accounting II', 'Osaki'),\n",
       " (10016, 'Accounting', 'Accounting II', 'Osaki'),\n",
       " (10017, 'Computer Info. Systems', 'Intro. to Microcomputing', 'Coronel'),\n",
       " (10018, 'Computer Info. Systems', 'Intro. to Microcomputing', 'Graztevski'),\n",
       " (10019, 'Computer Info. Systems', 'Intro. to Microcomputing', 'Coronel'),\n",
       " (10020, 'Computer Info. Systems', 'Database Design and Implementation', 'Rob'),\n",
       " (10021, 'Computer Info. Systems', 'Intro. to Statistics', 'Graztevski'),\n",
       " (10022, 'Computer Info. Systems', 'Intro. to Statistics', 'Graztevski'),\n",
       " (10023, 'Computer Info. Systems', 'Statistical Applications', 'Rob'),\n",
       " (10024, 'Computer Info. Systems', 'Statistical Applications', 'Rob'),\n",
       " (10025, 'Mathematics', 'Mathmatic for Managers', 'Jones')]"
      ]
     },
     "execution_count": 3,
     "metadata": {},
     "output_type": "execute_result"
    }
   ],
   "source": [
    "%%sql\n",
    "SELECT CLASS_CODE, Dept_name, Crs_description, Prof_lname\n",
    "FROM CLASS, COURSE, DEPARTMENT, PROFESSOR\n",
    "WHERE CLASS.Crs_code = COURSE.Crs_code AND CLASS.Prof_num = PROFESSOR.Prof_num AND COURSE.Dept_code = DEPARTMENT.Dept_code;"
   ]
  },
  {
   "cell_type": "markdown",
   "metadata": {},
   "source": [
    "### Question 3\n",
    "\n",
    "Write a query to show all student numbers, student names, their professor names, and department names whose department code is ‘ACCT’ or ‘CIS’. "
   ]
  },
  {
   "cell_type": "code",
   "execution_count": 4,
   "metadata": {},
   "outputs": [
    {
     "name": "stdout",
     "output_type": "stream",
     "text": [
      " * sqlite:///tiny-college.db\n",
      "Done.\n"
     ]
    },
    {
     "data": {
      "text/html": [
       "<table>\n",
       "    <tr>\n",
       "        <th>Stu_num</th>\n",
       "        <th>Stu_lname</th>\n",
       "        <th>Stu_fname</th>\n",
       "        <th>Prof_lname</th>\n",
       "        <th>Prof_fname</th>\n",
       "        <th>Dept_name</th>\n",
       "    </tr>\n",
       "    <tr>\n",
       "        <td>324257</td>\n",
       "        <td>Smithson</td>\n",
       "        <td>Anne</td>\n",
       "        <td>Coronel</td>\n",
       "        <td>Carlos</td>\n",
       "        <td>Computer Info. Systems</td>\n",
       "    </tr>\n",
       "    <tr>\n",
       "        <td>324258</td>\n",
       "        <td>Brewer</td>\n",
       "        <td>Juliette</td>\n",
       "        <td>Graztevski</td>\n",
       "        <td>Gerald</td>\n",
       "        <td>Accounting</td>\n",
       "    </tr>\n",
       "    <tr>\n",
       "        <td>324269</td>\n",
       "        <td>Oblonski</td>\n",
       "        <td>Walter</td>\n",
       "        <td>Smith</td>\n",
       "        <td>Melanie</td>\n",
       "        <td>Computer Info. Systems</td>\n",
       "    </tr>\n",
       "    <tr>\n",
       "        <td>324274</td>\n",
       "        <td>Katinga</td>\n",
       "        <td>Raphael</td>\n",
       "        <td>Heffington</td>\n",
       "        <td>Arnelle</td>\n",
       "        <td>Accounting</td>\n",
       "    </tr>\n",
       "    <tr>\n",
       "        <td>324299</td>\n",
       "        <td>Smith</td>\n",
       "        <td>John</td>\n",
       "        <td>Osaki</td>\n",
       "        <td>Ismael</td>\n",
       "        <td>Accounting</td>\n",
       "    </tr>\n",
       "</table>"
      ],
      "text/plain": [
       "[(324257, 'Smithson', 'Anne', 'Coronel', 'Carlos', 'Computer Info. Systems'),\n",
       " (324258, 'Brewer', 'Juliette', 'Graztevski', 'Gerald', 'Accounting'),\n",
       " (324269, 'Oblonski', 'Walter', 'Smith', 'Melanie', 'Computer Info. Systems'),\n",
       " (324274, 'Katinga', 'Raphael', 'Heffington', 'Arnelle', 'Accounting'),\n",
       " (324299, 'Smith', 'John', 'Osaki', 'Ismael', 'Accounting')]"
      ]
     },
     "execution_count": 4,
     "metadata": {},
     "output_type": "execute_result"
    }
   ],
   "source": [
    "%%sql\n",
    "SELECT Stu_num, Stu_lname, Stu_fname, Prof_lname, Prof_fname, Dept_name\n",
    "FROM STUDENT, PROFESSOR, DEPARTMENT\n",
    "WHERE (STUDENT.Dept_code = 'ACCT' OR Student.Dept_code = 'CIS') AND STUDENT.Prof_num = PROFESSOR.Prof_num AND DEPARTMENT.Dept_code = STUDENT.Dept_code;"
   ]
  },
  {
   "cell_type": "markdown",
   "metadata": {},
   "source": [
    "### Question 4\n",
    "\n",
    "Write a query to list the name of departments having equal or over 3 professors."
   ]
  },
  {
   "cell_type": "code",
   "execution_count": 5,
   "metadata": {},
   "outputs": [
    {
     "name": "stdout",
     "output_type": "stream",
     "text": [
      " * sqlite:///tiny-college.db\n",
      "Done.\n"
     ]
    },
    {
     "data": {
      "text/html": [
       "<table>\n",
       "    <tr>\n",
       "        <th>Dept_code</th>\n",
       "        <th>Dept_name</th>\n",
       "        <th>COUNT(*)</th>\n",
       "    </tr>\n",
       "    <tr>\n",
       "        <td>ACCT</td>\n",
       "        <td>Accounting</td>\n",
       "        <td>3</td>\n",
       "    </tr>\n",
       "    <tr>\n",
       "        <td>CIS</td>\n",
       "        <td>Computer Info. Systems</td>\n",
       "        <td>3</td>\n",
       "    </tr>\n",
       "    <tr>\n",
       "        <td>ENG</td>\n",
       "        <td>English</td>\n",
       "        <td>3</td>\n",
       "    </tr>\n",
       "</table>"
      ],
      "text/plain": [
       "[('ACCT', 'Accounting', 3),\n",
       " ('CIS', 'Computer Info. Systems', 3),\n",
       " ('ENG', 'English', 3)]"
      ]
     },
     "execution_count": 5,
     "metadata": {},
     "output_type": "execute_result"
    }
   ],
   "source": [
    "%%sql\n",
    "SELECT DEPARTMENT.Dept_code, DEPARTMENT.Dept_name, COUNT(*)\n",
    "FROM PROFESSOR, DEPARTMENT\n",
    "WHERE PROFESSOR.Dept_code = DEPARTMENT.Dept_code\n",
    "GROUP BY DEPARTMENT.Dept_code, DEPARTMENT.Dept_name\n",
    "HAVING COUNT(*) >= 3;"
   ]
  },
  {
   "cell_type": "markdown",
   "metadata": {},
   "source": [
    "### Question 5\n",
    "\n",
    "Write a query to list the courses that have prerequisite courses. Show the course code, course_description, course code of the prerequisite course, course description of the prerequisite course."
   ]
  },
  {
   "cell_type": "code",
   "execution_count": 6,
   "metadata": {},
   "outputs": [
    {
     "name": "stdout",
     "output_type": "stream",
     "text": [
      " * sqlite:///tiny-college.db\n",
      "Done.\n"
     ]
    },
    {
     "data": {
      "text/html": [
       "<table>\n",
       "    <tr>\n",
       "        <th>Crs_code</th>\n",
       "        <th>Crs_description</th>\n",
       "        <th>Pre_take</th>\n",
       "        <th>Crs_description_1</th>\n",
       "    </tr>\n",
       "    <tr>\n",
       "        <td>CIS-420</td>\n",
       "        <td>Database Design and Implementation</td>\n",
       "        <td>CIS-220</td>\n",
       "        <td>Intro. to Microcomputing</td>\n",
       "    </tr>\n",
       "    <tr>\n",
       "        <td>QM-261</td>\n",
       "        <td>Intro. to Statistics</td>\n",
       "        <td>MATH-243</td>\n",
       "        <td>Mathmatic for Managers</td>\n",
       "    </tr>\n",
       "    <tr>\n",
       "        <td>QM-362</td>\n",
       "        <td>Statistical Applications</td>\n",
       "        <td>MATH-243</td>\n",
       "        <td>Mathmatic for Managers</td>\n",
       "    </tr>\n",
       "    <tr>\n",
       "        <td>QM-362</td>\n",
       "        <td>Statistical Applications</td>\n",
       "        <td>QM-261</td>\n",
       "        <td>Intro. to Statistics</td>\n",
       "    </tr>\n",
       "</table>"
      ],
      "text/plain": [
       "[('CIS-420', 'Database Design and Implementation', 'CIS-220', 'Intro. to Microcomputing'),\n",
       " ('QM-261', 'Intro. to Statistics', 'MATH-243', 'Mathmatic for Managers'),\n",
       " ('QM-362', 'Statistical Applications', 'MATH-243', 'Mathmatic for Managers'),\n",
       " ('QM-362', 'Statistical Applications', 'QM-261', 'Intro. to Statistics')]"
      ]
     },
     "execution_count": 6,
     "metadata": {},
     "output_type": "execute_result"
    }
   ],
   "source": [
    "%%sql\n",
    "SELECT C.Crs_code, C.Crs_description, PREREQ.Pre_take, PRE.Crs_description\n",
    "FROM COURSE AS C, COURSE AS PRE, PREREQ\n",
    "WHERE C.Crs_code = PREREQ.Crs_code AND PRE.Crs_code = PREREQ.Pre_take;"
   ]
  },
  {
   "cell_type": "markdown",
   "metadata": {},
   "source": [
    "### Question 6\n",
    "\n",
    "Write a query to show the names and department name of all professors who has no class. "
   ]
  },
  {
   "cell_type": "code",
   "execution_count": 7,
   "metadata": {},
   "outputs": [
    {
     "name": "stdout",
     "output_type": "stream",
     "text": [
      " * sqlite:///tiny-college.db\n",
      "Done.\n"
     ]
    },
    {
     "data": {
      "text/html": [
       "<table>\n",
       "    <tr>\n",
       "        <th>Prof_lname</th>\n",
       "        <th>Prof_fname</th>\n",
       "        <th>Dept_name</th>\n",
       "    </tr>\n",
       "    <tr>\n",
       "        <td>Donelly</td>\n",
       "        <td>Ronald</td>\n",
       "        <td>History</td>\n",
       "    </tr>\n",
       "    <tr>\n",
       "        <td>Yukon</td>\n",
       "        <td>Preston</td>\n",
       "        <td>English</td>\n",
       "    </tr>\n",
       "    <tr>\n",
       "        <td>Washington</td>\n",
       "        <td>Ross</td>\n",
       "        <td>Marketing/Management</td>\n",
       "    </tr>\n",
       "    <tr>\n",
       "        <td>Thieu</td>\n",
       "        <td>Van</td>\n",
       "        <td>Biology</td>\n",
       "    </tr>\n",
       "    <tr>\n",
       "        <td>Ritula</td>\n",
       "        <td>Annelise</td>\n",
       "        <td>Mathematics</td>\n",
       "    </tr>\n",
       "    <tr>\n",
       "        <td>Smith</td>\n",
       "        <td>Robert</td>\n",
       "        <td>English</td>\n",
       "    </tr>\n",
       "    <tr>\n",
       "        <td>Dexter</td>\n",
       "        <td>Willa</td>\n",
       "        <td>Marketing/Management</td>\n",
       "    </tr>\n",
       "    <tr>\n",
       "        <td>Williams</td>\n",
       "        <td>Herman</td>\n",
       "        <td>Psychology</td>\n",
       "    </tr>\n",
       "    <tr>\n",
       "        <td>Smith</td>\n",
       "        <td>Melanie</td>\n",
       "        <td>Computer Info. Systems</td>\n",
       "    </tr>\n",
       "    <tr>\n",
       "        <td>Stoddard</td>\n",
       "        <td>Doreen</td>\n",
       "        <td>Economics/Finance</td>\n",
       "    </tr>\n",
       "    <tr>\n",
       "        <td>Wilson</td>\n",
       "        <td>Todd</td>\n",
       "        <td>English</td>\n",
       "    </tr>\n",
       "    <tr>\n",
       "        <td>Smith</td>\n",
       "        <td>Elsa</td>\n",
       "        <td>Biology</td>\n",
       "    </tr>\n",
       "    <tr>\n",
       "        <td>Ardano</td>\n",
       "        <td>James</td>\n",
       "        <td>History</td>\n",
       "    </tr>\n",
       "    <tr>\n",
       "        <td>Williamson</td>\n",
       "        <td>Kathryn</td>\n",
       "        <td>Economics/Finance</td>\n",
       "    </tr>\n",
       "    <tr>\n",
       "        <td>Herndon</td>\n",
       "        <td>Jill</td>\n",
       "        <td>Fine Arts</td>\n",
       "    </tr>\n",
       "</table>"
      ],
      "text/plain": [
       "[('Donelly', 'Ronald', 'History'),\n",
       " ('Yukon', 'Preston', 'English'),\n",
       " ('Washington', 'Ross', 'Marketing/Management'),\n",
       " ('Thieu', 'Van', 'Biology'),\n",
       " ('Ritula', 'Annelise', 'Mathematics'),\n",
       " ('Smith', 'Robert', 'English'),\n",
       " ('Dexter', 'Willa', 'Marketing/Management'),\n",
       " ('Williams', 'Herman', 'Psychology'),\n",
       " ('Smith', 'Melanie', 'Computer Info. Systems'),\n",
       " ('Stoddard', 'Doreen', 'Economics/Finance'),\n",
       " ('Wilson', 'Todd', 'English'),\n",
       " ('Smith', 'Elsa', 'Biology'),\n",
       " ('Ardano', 'James', 'History'),\n",
       " ('Williamson', 'Kathryn', 'Economics/Finance'),\n",
       " ('Herndon', 'Jill', 'Fine Arts')]"
      ]
     },
     "execution_count": 7,
     "metadata": {},
     "output_type": "execute_result"
    }
   ],
   "source": [
    "%%sql\n",
    "SELECT Prof_lname, Prof_fname, Dept_name\n",
    "FROM PROFESSOR JOIN DEPARTMENT ON DEPARTMENT.Dept_code = PROFESSOR.Dept_code\n",
    "WHERE NOT EXISTS\n",
    "      (SELECt * \n",
    "       FROM CLASS\n",
    "       WHERE CLASS.Prof_num = PROFESSOR.Prof_num);"
   ]
  }
 ],
 "metadata": {
  "kernelspec": {
   "display_name": "Python 3",
   "language": "python",
   "name": "python3"
  },
  "language_info": {
   "codemirror_mode": {
    "name": "ipython",
    "version": 3
   },
   "file_extension": ".py",
   "mimetype": "text/x-python",
   "name": "python",
   "nbconvert_exporter": "python",
   "pygments_lexer": "ipython3",
   "version": "3.7.3"
  }
 },
 "nbformat": 4,
 "nbformat_minor": 2
}
